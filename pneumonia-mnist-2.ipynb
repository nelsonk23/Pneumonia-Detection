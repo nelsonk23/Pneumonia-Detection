{
 "cells": [
  {
   "cell_type": "code",
   "execution_count": 20,
   "id": "e57f6e24",
   "metadata": {},
   "outputs": [],
   "source": [
    "import numpy as np\n",
    "import tensorflow as tf\n",
    "import matplotlib.pyplot as plt\n",
    "import seaborn as sns\n",
    "from tensorflow.keras.models import Sequential\n",
    "from tensorflow.keras.layers import Conv2D, MaxPooling2D, Flatten, Dense, Dropout, BatchNormalization\n",
    "from tensorflow.keras.optimizers import Adam\n",
    "from tensorflow.keras.callbacks import EarlyStopping, ReduceLROnPlateau\n",
    "from tensorflow.keras import backend as K, regularizers\n",
    "from tensorflow.keras.preprocessing.image import ImageDataGenerator\n",
    "from sklearn.metrics import classification_report, confusion_matrix\n",
    "from sklearn.utils import class_weight\n",
    "from medmnist import PneumoniaMNIST"
   ]
  },
  {
   "cell_type": "code",
   "execution_count": 2,
   "id": "2e78c61f",
   "metadata": {},
   "outputs": [
    {
     "name": "stdout",
     "output_type": "stream",
     "text": [
      "Using downloaded and verified file: /home/nelsonk/.medmnist/pneumoniamnist.npz\n",
      "Using downloaded and verified file: /home/nelsonk/.medmnist/pneumoniamnist.npz\n",
      "Using downloaded and verified file: /home/nelsonk/.medmnist/pneumoniamnist.npz\n"
     ]
    }
   ],
   "source": [
    "tf.random.set_seed(42)\n",
    "np.random.seed(42)\n",
    "train_dataset = PneumoniaMNIST(split=\"train\", download=True)\n",
    "validation_dataset = PneumoniaMNIST(split=\"val\", download=True)\n",
    "test_dataset = PneumoniaMNIST(split=\"test\", download=True)"
   ]
  },
  {
   "cell_type": "code",
   "execution_count": 3,
   "id": "682923b1",
   "metadata": {},
   "outputs": [
    {
     "name": "stdout",
     "output_type": "stream",
     "text": [
      "x_train shape: (4708, 28, 28, 1)\n",
      "y_train shape: (4708,)\n"
     ]
    }
   ],
   "source": [
    "images = []\n",
    "labels = []\n",
    "for img_tensor, label in train_dataset:\n",
    "    images.append(np.array(img_tensor))\n",
    "    labels.append(label.item()) \n",
    "x_train = np.stack(images)  \n",
    "y_train = np.array(labels)  \n",
    "x_train = np.expand_dims(x_train, axis=-1)\n",
    "print(f\"x_train shape: {x_train.shape}\") \n",
    "print(f\"y_train shape: {y_train.shape}\")"
   ]
  },
  {
   "cell_type": "code",
   "execution_count": 4,
   "id": "6e835364",
   "metadata": {},
   "outputs": [
    {
     "name": "stdout",
     "output_type": "stream",
     "text": [
      "x_validation shape: (524, 28, 28, 1)\n",
      "y_validation shape: (524,)\n"
     ]
    }
   ],
   "source": [
    "images = []\n",
    "labels = []\n",
    "for img_tensor, label in validation_dataset:\n",
    "    images.append(np.array(img_tensor))\n",
    "    labels.append(label.item()) \n",
    "x_validation = np.stack(images)  \n",
    "y_validation = np.array(labels)  \n",
    "x_validation = np.expand_dims(x_validation, axis=-1)\n",
    "print(f\"x_validation shape: {x_validation.shape}\") \n",
    "print(f\"y_validation shape: {y_validation.shape}\")"
   ]
  },
  {
   "cell_type": "code",
   "execution_count": 5,
   "id": "53671c92",
   "metadata": {},
   "outputs": [
    {
     "name": "stdout",
     "output_type": "stream",
     "text": [
      "x_test shape: (624, 28, 28, 1)\n",
      "y_test shape: (624,)\n"
     ]
    }
   ],
   "source": [
    "images = []\n",
    "labels = []\n",
    "for img_tensor, label in test_dataset:\n",
    "    images.append(np.array(img_tensor))\n",
    "    labels.append(label.item()) \n",
    "x_test = np.stack(images)  \n",
    "y_test = np.array(labels)  \n",
    "x_test = np.expand_dims(x_test, axis=-1)\n",
    "print(f\"x_test shape: {x_test.shape}\") \n",
    "print(f\"y_test shape: {y_test.shape}\")"
   ]
  },
  {
   "cell_type": "code",
   "execution_count": 6,
   "id": "72f31ec3",
   "metadata": {},
   "outputs": [],
   "source": [
    "if x_train.max() > 1:\n",
    "    x_train = x_train.astype(np.float32) / 255.0\n",
    "if x_validation.max() > 1:\n",
    "    x_validation = x_validation.astype(np.float32) / 255.0\n",
    "if x_test.max() > 1:\n",
    "    x_test = x_test.astype(np.float32) / 255.0"
   ]
  },
  {
   "cell_type": "code",
   "execution_count": 7,
   "id": "853940a1",
   "metadata": {},
   "outputs": [],
   "source": [
    "def test_model_and_evaluate(model):\n",
    "    y_pred_prob = model.predict(x_test)\n",
    "    print(f\"Predicted probabilities shape: {y_pred_prob.shape}\")\n",
    "    y_pred_classes = (y_pred_prob > 0.5).astype(int).flatten()\n",
    "    test_loss, test_accuracy = model.evaluate(x_test, y_test)\n",
    "    print(f\"Test Loss: {test_loss:.4f}\")\n",
    "    print(f\"Test Accuracy: {test_accuracy:.4f}\")\n",
    "    print(\"Classification Report:\")\n",
    "    print(classification_report(y_test, y_pred_classes))\n",
    "    cm = confusion_matrix(y_test, y_pred_classes)\n",
    "    plt.figure(figsize=(7, 5))\n",
    "    sns.heatmap(cm, annot=True, fmt='d', cmap='Blues', xticklabels=['Normal', 'Pneumonia'], yticklabels=['Normal', 'Pneumonia'])\n",
    "    plt.title('Confusion Matrix')\n",
    "    plt.xlabel('Predicted Labels')\n",
    "    plt.ylabel('True Labels')\n",
    "    plt.show()\n",
    "    per_class_accuracy = np.diagonal(cm) / np.sum(cm, axis=1)\n",
    "    print(\"Per-class Accuracy:\")\n",
    "    for i, accuracy in enumerate(per_class_accuracy):\n",
    "        class_name = 'Normal' if i == 0 else 'Pneumonia'\n",
    "        print(f\"Class {class_name}: {accuracy:.4f}\")\n",
    "\n",
    "def print_accuracy_and_loss(history): \n",
    "    plt.figure(figsize=(12, 5))\n",
    "    plt.subplot(1, 2, 1)\n",
    "    plt.plot(history.history['loss'], label='Train Loss')\n",
    "    plt.plot(history.history['val_loss'], label='Validation Loss')\n",
    "    plt.title('Model Loss')\n",
    "    plt.xlabel('Epoch')\n",
    "    plt.ylabel('Loss')\n",
    "    plt.legend()\n",
    "    plt.subplot(1, 2, 2)\n",
    "    plt.plot(history.history['accuracy'], label='Train Accuracy')\n",
    "    plt.plot(history.history['val_accuracy'], label='Validation Accuracy')\n",
    "    plt.title('Model Accuracy')\n",
    "    plt.xlabel('Epoch')\n",
    "    plt.ylabel('Accuracy')\n",
    "    plt.legend()\n",
    "    plt.tight_layout()\n",
    "    plt.show()"
   ]
  },
  {
   "cell_type": "code",
   "execution_count": 8,
   "id": "199608d6",
   "metadata": {},
   "outputs": [
    {
     "name": "stdout",
     "output_type": "stream",
     "text": [
      "Class weights: {0: 1.9390444810543657, 1: 0.6737263880938752}\n"
     ]
    }
   ],
   "source": [
    "class_weights = class_weight.compute_class_weight(\n",
    "    class_weight='balanced',\n",
    "    classes=np.unique(y_train),\n",
    "    y=y_train\n",
    ")\n",
    "class_weights = dict(enumerate(class_weights))\n",
    "print(f\"Class weights: {class_weights}\")"
   ]
  },
  {
   "cell_type": "code",
   "execution_count": 9,
   "id": "decb7eeb",
   "metadata": {},
   "outputs": [],
   "source": [
    "def binary_focal_loss(gamma=2.0, alpha=0.15):\n",
    "    def focal_loss(y_true, y_pred):\n",
    "        y_pred = K.clip(y_pred, K.epsilon(), 1. - K.epsilon())\n",
    "        pt = tf.where(tf.equal(y_true, 1), y_pred, 1 - y_pred)\n",
    "        alpha_t = tf.where(tf.equal(y_true, 1), alpha, 1 - alpha)\n",
    "        loss = -alpha_t * K.pow(1. - pt, gamma) * K.log(pt)\n",
    "        return K.mean(loss)\n",
    "    return focal_loss"
   ]
  },
  {
   "cell_type": "code",
   "execution_count": 21,
   "id": "5e5035f6",
   "metadata": {},
   "outputs": [
    {
     "name": "stdout",
     "output_type": "stream",
     "text": [
      "Model: \"sequential_2\"\n",
      "_________________________________________________________________\n",
      " Layer (type)                Output Shape              Param #   \n",
      "=================================================================\n",
      " conv2d_4 (Conv2D)           (None, 28, 28, 32)        320       \n",
      "                                                                 \n",
      " batch_normalization_4 (Batc  (None, 28, 28, 32)       128       \n",
      " hNormalization)                                                 \n",
      "                                                                 \n",
      " max_pooling2d_4 (MaxPooling  (None, 14, 14, 32)       0         \n",
      " 2D)                                                             \n",
      "                                                                 \n",
      " dropout_6 (Dropout)         (None, 14, 14, 32)        0         \n",
      "                                                                 \n",
      " conv2d_5 (Conv2D)           (None, 14, 14, 64)        18496     \n",
      "                                                                 \n",
      " batch_normalization_5 (Batc  (None, 14, 14, 64)       256       \n",
      " hNormalization)                                                 \n",
      "                                                                 \n",
      " max_pooling2d_5 (MaxPooling  (None, 7, 7, 64)         0         \n",
      " 2D)                                                             \n",
      "                                                                 \n",
      " dropout_7 (Dropout)         (None, 7, 7, 64)          0         \n",
      "                                                                 \n",
      " flatten_2 (Flatten)         (None, 3136)              0         \n",
      "                                                                 \n",
      " dense_4 (Dense)             (None, 64)                200768    \n",
      "                                                                 \n",
      " dropout_8 (Dropout)         (None, 64)                0         \n",
      "                                                                 \n",
      " dense_5 (Dense)             (None, 1)                 65        \n",
      "                                                                 \n",
      "=================================================================\n",
      "Total params: 220,033\n",
      "Trainable params: 219,841\n",
      "Non-trainable params: 192\n",
      "_________________________________________________________________\n"
     ]
    }
   ],
   "source": [
    "model = Sequential([\n",
    "    Conv2D(32, (3,3), activation='relu', padding='same', input_shape=(28,28,1),\n",
    "           kernel_regularizer=regularizers.l2(0.005)),  \n",
    "    BatchNormalization(),\n",
    "    MaxPooling2D(),\n",
    "    Dropout(0.4), \n",
    "    Conv2D(64, (3,3), activation='relu', padding='same',\n",
    "           kernel_regularizer=regularizers.l2(0.005)),  \n",
    "    BatchNormalization(),\n",
    "    MaxPooling2D(),\n",
    "    Dropout(0.4),\n",
    "    Flatten(),\n",
    "    Dense(64, activation='relu', kernel_regularizer=regularizers.l2(0.005)), \n",
    "    Dropout(0.6), \n",
    "    Dense(1, activation='sigmoid')\n",
    "])\n",
    "model.compile(\n",
    "    optimizer=Adam(learning_rate=0.0005), \n",
    "    loss=binary_focal_loss(gamma=2.0, alpha=0.15),\n",
    "    metrics=['accuracy']\n",
    ")\n",
    "model.summary()"
   ]
  },
  {
   "cell_type": "code",
   "execution_count": 22,
   "id": "64999742",
   "metadata": {},
   "outputs": [],
   "source": [
    "datagen = ImageDataGenerator(\n",
    "    rotation_range=15,\n",
    "    width_shift_range=0.1,\n",
    "    height_shift_range=0.1,\n",
    "    zoom_range=0.1,\n",
    "    horizontal_flip=True,\n",
    "    fill_mode='nearest'\n",
    ")\n",
    "datagen.fit(x_train)"
   ]
  },
  {
   "cell_type": "code",
   "execution_count": 23,
   "id": "2a2afe09",
   "metadata": {},
   "outputs": [
    {
     "name": "stdout",
     "output_type": "stream",
     "text": [
      "Epoch 1/40\n",
      "73/73 [==============================] - 3s 28ms/step - loss: 0.8682 - accuracy: 0.4694 - val_loss: 0.7714 - val_accuracy: 0.2576 - lr: 5.0000e-04\n",
      "Epoch 2/40\n",
      "73/73 [==============================] - 2s 26ms/step - loss: 0.6137 - accuracy: 0.5650 - val_loss: 0.6609 - val_accuracy: 0.2576 - lr: 5.0000e-04\n",
      "Epoch 3/40\n",
      "73/73 [==============================] - 2s 26ms/step - loss: 0.4721 - accuracy: 0.7173 - val_loss: 0.4586 - val_accuracy: 0.2615 - lr: 5.0000e-04\n",
      "Epoch 4/40\n",
      "73/73 [==============================] - 2s 27ms/step - loss: 0.3738 - accuracy: 0.7618 - val_loss: 0.3258 - val_accuracy: 0.9046 - lr: 5.0000e-04\n",
      "Epoch 5/40\n",
      "73/73 [==============================] - 2s 26ms/step - loss: 0.2987 - accuracy: 0.7672 - val_loss: 0.2975 - val_accuracy: 0.8664 - lr: 5.0000e-04\n",
      "Epoch 6/40\n",
      "73/73 [==============================] - 2s 26ms/step - loss: 0.2415 - accuracy: 0.8073 - val_loss: 0.2429 - val_accuracy: 0.8855 - lr: 5.0000e-04\n",
      "Epoch 7/40\n",
      "73/73 [==============================] - 2s 26ms/step - loss: 0.1985 - accuracy: 0.8017 - val_loss: 0.1813 - val_accuracy: 0.9256 - lr: 5.0000e-04\n",
      "Epoch 8/40\n",
      "73/73 [==============================] - 2s 26ms/step - loss: 0.1628 - accuracy: 0.8172 - val_loss: 0.1446 - val_accuracy: 0.9141 - lr: 5.0000e-04\n",
      "Epoch 9/40\n",
      "73/73 [==============================] - 2s 26ms/step - loss: 0.1351 - accuracy: 0.8215 - val_loss: 0.1135 - val_accuracy: 0.9122 - lr: 5.0000e-04\n",
      "Epoch 10/40\n",
      "73/73 [==============================] - 2s 26ms/step - loss: 0.1162 - accuracy: 0.8236 - val_loss: 0.1018 - val_accuracy: 0.9332 - lr: 5.0000e-04\n",
      "Epoch 11/40\n",
      "73/73 [==============================] - 2s 26ms/step - loss: 0.1008 - accuracy: 0.8305 - val_loss: 0.0886 - val_accuracy: 0.7595 - lr: 5.0000e-04\n",
      "Epoch 12/40\n",
      "73/73 [==============================] - 2s 26ms/step - loss: 0.0857 - accuracy: 0.8389 - val_loss: 0.0707 - val_accuracy: 0.8607 - lr: 5.0000e-04\n",
      "Epoch 13/40\n",
      "73/73 [==============================] - 2s 26ms/step - loss: 0.0746 - accuracy: 0.8523 - val_loss: 0.0593 - val_accuracy: 0.9027 - lr: 5.0000e-04\n",
      "Epoch 14/40\n",
      "73/73 [==============================] - 2s 26ms/step - loss: 0.0653 - accuracy: 0.8566 - val_loss: 0.1020 - val_accuracy: 0.5286 - lr: 5.0000e-04\n",
      "Epoch 15/40\n",
      "73/73 [==============================] - 2s 26ms/step - loss: 0.0620 - accuracy: 0.8450 - val_loss: 0.0513 - val_accuracy: 0.8531 - lr: 5.0000e-04\n",
      "Epoch 16/40\n",
      "73/73 [==============================] - 2s 26ms/step - loss: 0.0597 - accuracy: 0.8361 - val_loss: 0.0508 - val_accuracy: 0.8053 - lr: 5.0000e-04\n",
      "Epoch 17/40\n",
      "73/73 [==============================] - 2s 26ms/step - loss: 0.0518 - accuracy: 0.8624 - val_loss: 0.0664 - val_accuracy: 0.6069 - lr: 5.0000e-04\n",
      "Epoch 18/40\n",
      "73/73 [==============================] - 2s 26ms/step - loss: 0.0469 - accuracy: 0.8671 - val_loss: 0.0489 - val_accuracy: 0.7195 - lr: 5.0000e-04\n",
      "Epoch 19/40\n",
      "73/73 [==============================] - 2s 26ms/step - loss: 0.0429 - accuracy: 0.8689 - val_loss: 0.0341 - val_accuracy: 0.9275 - lr: 5.0000e-04\n",
      "Epoch 20/40\n",
      "73/73 [==============================] - 2s 26ms/step - loss: 0.0436 - accuracy: 0.8482 - val_loss: 0.0375 - val_accuracy: 0.8130 - lr: 5.0000e-04\n",
      "Epoch 21/40\n",
      "73/73 [==============================] - 2s 26ms/step - loss: 0.0406 - accuracy: 0.8564 - val_loss: 0.0340 - val_accuracy: 0.8015 - lr: 5.0000e-04\n",
      "Epoch 22/40\n",
      "73/73 [==============================] - 2s 26ms/step - loss: 0.0380 - accuracy: 0.8630 - val_loss: 0.0524 - val_accuracy: 0.6622 - lr: 5.0000e-04\n",
      "Epoch 23/40\n",
      "73/73 [==============================] - 2s 26ms/step - loss: 0.0389 - accuracy: 0.8650 - val_loss: 0.0296 - val_accuracy: 0.8874 - lr: 5.0000e-04\n",
      "Epoch 24/40\n",
      "73/73 [==============================] - 2s 27ms/step - loss: 0.0376 - accuracy: 0.8510 - val_loss: 0.0518 - val_accuracy: 0.9160 - lr: 5.0000e-04\n",
      "Epoch 25/40\n",
      "73/73 [==============================] - 2s 26ms/step - loss: 0.0374 - accuracy: 0.8658 - val_loss: 0.0293 - val_accuracy: 0.9198 - lr: 5.0000e-04\n",
      "Epoch 26/40\n",
      "73/73 [==============================] - 2s 26ms/step - loss: 0.0392 - accuracy: 0.8508 - val_loss: 0.0341 - val_accuracy: 0.7958 - lr: 5.0000e-04\n",
      "Epoch 27/40\n",
      "73/73 [==============================] - 2s 26ms/step - loss: 0.0374 - accuracy: 0.8652 - val_loss: 0.0285 - val_accuracy: 0.8893 - lr: 5.0000e-04\n",
      "Epoch 28/40\n",
      "73/73 [==============================] - 2s 27ms/step - loss: 0.0402 - accuracy: 0.8437 - val_loss: 0.0527 - val_accuracy: 0.5973 - lr: 5.0000e-04\n",
      "Epoch 29/40\n",
      "73/73 [==============================] - 2s 27ms/step - loss: 0.0362 - accuracy: 0.8572 - val_loss: 0.0287 - val_accuracy: 0.9313 - lr: 5.0000e-04\n",
      "Epoch 30/40\n",
      "73/73 [==============================] - 2s 26ms/step - loss: 0.0357 - accuracy: 0.8727 - val_loss: 0.0349 - val_accuracy: 0.7710 - lr: 5.0000e-04\n",
      "Epoch 31/40\n",
      "73/73 [==============================] - 2s 26ms/step - loss: 0.0350 - accuracy: 0.8637 - val_loss: 0.0294 - val_accuracy: 0.8626 - lr: 5.0000e-04\n",
      "Epoch 32/40\n",
      "72/73 [============================>.] - ETA: 0s - loss: 0.0334 - accuracy: 0.8629\n",
      "Epoch 32: ReduceLROnPlateau reducing learning rate to 0.0002500000118743628.\n",
      "73/73 [==============================] - 2s 26ms/step - loss: 0.0334 - accuracy: 0.8626 - val_loss: 0.0313 - val_accuracy: 0.8626 - lr: 5.0000e-04\n",
      "Epoch 33/40\n",
      "73/73 [==============================] - 2s 27ms/step - loss: 0.0312 - accuracy: 0.8783 - val_loss: 0.0279 - val_accuracy: 0.8282 - lr: 2.5000e-04\n",
      "Epoch 34/40\n",
      "73/73 [==============================] - 2s 26ms/step - loss: 0.0285 - accuracy: 0.8880 - val_loss: 0.0236 - val_accuracy: 0.8779 - lr: 2.5000e-04\n",
      "Epoch 35/40\n",
      "73/73 [==============================] - 2s 27ms/step - loss: 0.0281 - accuracy: 0.8854 - val_loss: 0.0370 - val_accuracy: 0.7042 - lr: 2.5000e-04\n",
      "Epoch 36/40\n",
      "73/73 [==============================] - 2s 26ms/step - loss: 0.0285 - accuracy: 0.8861 - val_loss: 0.0216 - val_accuracy: 0.9027 - lr: 2.5000e-04\n",
      "Epoch 37/40\n",
      "73/73 [==============================] - 2s 26ms/step - loss: 0.0283 - accuracy: 0.8805 - val_loss: 0.0224 - val_accuracy: 0.8969 - lr: 2.5000e-04\n",
      "Epoch 38/40\n",
      "73/73 [==============================] - 2s 26ms/step - loss: 0.0281 - accuracy: 0.8846 - val_loss: 0.0271 - val_accuracy: 0.8092 - lr: 2.5000e-04\n",
      "Epoch 39/40\n",
      "73/73 [==============================] - 2s 26ms/step - loss: 0.0287 - accuracy: 0.8613 - val_loss: 0.0214 - val_accuracy: 0.8989 - lr: 2.5000e-04\n",
      "Epoch 40/40\n",
      "73/73 [==============================] - 2s 26ms/step - loss: 0.0268 - accuracy: 0.8842 - val_loss: 0.0202 - val_accuracy: 0.9046 - lr: 2.5000e-04\n"
     ]
    }
   ],
   "source": [
    "early_stopping = EarlyStopping(monitor='val_loss', patience=10, restore_best_weights=True, verbose=1)\n",
    "reduce_lr = ReduceLROnPlateau(monitor='val_loss', patience=5, factor=0.5, verbose=1, min_lr=1e-6)\n",
    "history = model.fit(\n",
    "    datagen.flow(x_train, y_train, batch_size=64),\n",
    "    steps_per_epoch=len(x_train) // 64,\n",
    "    epochs=40,\n",
    "    validation_data=(x_validation, y_validation),\n",
    "    class_weight=class_weights,\n",
    "    callbacks=[early_stopping, reduce_lr]\n",
    ")"
   ]
  },
  {
   "cell_type": "code",
   "execution_count": 24,
   "id": "c1f9f756",
   "metadata": {},
   "outputs": [
    {
     "name": "stdout",
     "output_type": "stream",
     "text": [
      "20/20 [==============================] - 0s 3ms/step\n",
      "Predicted probabilities shape: (624, 1)\n",
      "20/20 [==============================] - 0s 3ms/step - loss: 0.0472 - accuracy: 0.8942\n",
      "Test Loss: 0.0472\n",
      "Test Accuracy: 0.8942\n",
      "Classification Report:\n",
      "              precision    recall  f1-score   support\n",
      "\n",
      "           0       0.88      0.84      0.86       234\n",
      "           1       0.91      0.93      0.92       390\n",
      "\n",
      "    accuracy                           0.89       624\n",
      "   macro avg       0.89      0.88      0.89       624\n",
      "weighted avg       0.89      0.89      0.89       624\n",
      "\n"
     ]
    },
    {
     "data": {
      "image/png": "[encoded data removed]",
      "text/plain": [
       "<Figure size 504x360 with 2 Axes>"
      ]
     },
     "metadata": {
      "needs_background": "light"
     },
     "output_type": "display_data"
    },
    {
     "name": "stdout",
     "output_type": "stream",
     "text": [
      "Per-class Accuracy:\n",
      "Class Normal: 0.8376\n",
      "Class Pneumonia: 0.9282\n"
     ]
    },
    {
     "data": {
      "image/png": "[encoded data removed]",
      "text/plain": [
       "<Figure size 864x360 with 2 Axes>"
      ]
     },
     "metadata": {
      "needs_background": "light"
     },
     "output_type": "display_data"
    }
   ],
   "source": [
    "test_model_and_evaluate(model)\n",
    "print_accuracy_and_loss(history)"
   ]
  },
  {
   "cell_type": "code",
   "execution_count": null,
   "id": "eba34ba1",
   "metadata": {},
   "outputs": [],
   "source": []
  }
 ],
 "metadata": {
  "kernelspec": {
   "display_name": "Python 3 (ipykernel)",
   "language": "python",
   "name": "python3"
  },
  "language_info": {
   "codemirror_mode": {
    "name": "ipython",
    "version": 3
   },
   "file_extension": ".py",
   "mimetype": "text/x-python",
   "name": "python",
   "nbconvert_exporter": "python",
   "pygments_lexer": "ipython3",
   "version": "3.7.13"
  }
 },
 "nbformat": 4,
 "nbformat_minor": 5
}
