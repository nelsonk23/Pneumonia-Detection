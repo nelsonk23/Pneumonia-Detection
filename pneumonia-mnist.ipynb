{
 "cells": [
  {
   "cell_type": "code",
   "execution_count": 157,
   "id": "b2bffb11",
   "metadata": {},
   "outputs": [],
   "source": [
    "from medmnist import PneumoniaMNIST\n",
    "\n",
    "import tensorflow as tf\n",
    "from tensorflow.keras.models import Sequential\n",
    "from tensorflow.keras.layers import Conv2D, MaxPooling2D, Flatten, Dense, Dropout\n",
    "from tensorflow.keras.optimizers import Adam\n",
    "\n",
    "import matplotlib.pyplot as plt\n",
    "\n",
    "import numpy as np\n",
    "import random"
   ]
  },
  {
   "cell_type": "code",
   "execution_count": 137,
   "id": "88ad4d5e",
   "metadata": {},
   "outputs": [],
   "source": [
    "train_dataset = PneumoniaMNIST(split=\"train\", download=True)\n",
    "validation_dataset = PneumoniaMNIST(split=\"val\", download=True)\n",
    "test_dataset = PneumoniaMNIST(split=\"test\", download=True)"
   ]
  },
  {
   "cell_type": "code",
   "execution_count": 138,
   "id": "b4532f54",
   "metadata": {},
   "outputs": [
    {
     "data": {
      "text/plain": [
       "Dataset PneumoniaMNIST of size 28 (pneumoniamnist)\n",
       "    Number of datapoints: 4708\n",
       "    Root location: C:\\Users\\bigma\\.medmnist\n",
       "    Split: train\n",
       "    Task: binary-class\n",
       "    Number of channels: 1\n",
       "    Meaning of labels: {'0': 'normal', '1': 'pneumonia'}\n",
       "    Number of samples: {'train': 4708, 'val': 524, 'test': 624}\n",
       "    Description: The PneumoniaMNIST is based on a prior dataset of 5,856 pediatric chest X-Ray images. The task is binary-class classification of pneumonia against normal. We split the source training set with a ratio of 9:1 into training and validation set and use its source validation set as the test set. The source images are gray-scale, and their sizes are (384−2,916)×(127−2,713). We center-crop the images and resize them into 1×28×28.\n",
       "    License: CC BY 4.0"
      ]
     },
     "execution_count": 138,
     "metadata": {},
     "output_type": "execute_result"
    }
   ],
   "source": [
    "train_dataset\n"
   ]
  },
  {
   "cell_type": "code",
   "execution_count": 139,
   "id": "1e3744c3",
   "metadata": {},
   "outputs": [
    {
     "data": {
      "text/plain": [
       "medmnist.dataset.PneumoniaMNIST"
      ]
     },
     "execution_count": 139,
     "metadata": {},
     "output_type": "execute_result"
    }
   ],
   "source": [
    "type(train_dataset)"
   ]
  },
  {
   "cell_type": "code",
   "execution_count": 140,
   "id": "236725fc",
   "metadata": {},
   "outputs": [
    {
     "name": "stdout",
     "output_type": "stream",
     "text": [
      "Type of image: <class 'PIL.Image.Image'>\n"
     ]
    }
   ],
   "source": [
    "img, label = train_dataset[0]\n",
    "print(f\"Type of image: {type(img)}\")\n",
    "# print(f\"Shape of image: {img.shape}\")"
   ]
  },
  {
   "cell_type": "code",
   "execution_count": 141,
   "id": "b912f691",
   "metadata": {},
   "outputs": [
    {
     "name": "stdout",
     "output_type": "stream",
     "text": [
      "Shape of numpy array: (28, 28)\n"
     ]
    }
   ],
   "source": [
    "# based on Windsurf prompt: \"how to convert PIL.Image.Image to a numpy array\"\n",
    "\n",
    "# Get a sample image from the dataset\n",
    "img, label = train_dataset[0]  # Get first sample\n",
    "\n",
    "x_train = np.array(img)\n",
    "\n",
    "print(f\"Shape of numpy array: {x_train.shape}\")"
   ]
  },
  {
   "cell_type": "code",
   "execution_count": 155,
   "id": "27f7ce5b",
   "metadata": {},
   "outputs": [
    {
     "data": {
      "image/png": "[encoded data removed]",
      "text/plain": [
       "<Figure size 640x480 with 1 Axes>"
      ]
     },
     "metadata": {},
     "output_type": "display_data"
    },
    {
     "name": "stdout",
     "output_type": "stream",
     "text": [
      "Pixel values:\n",
      "[ 92 108 117 111 101  90  70  49  28  60  83 119 156 186 211 204 192 203\n",
      " 204 166 115  90  53   0   0   5   8   6]\n"
     ]
    }
   ],
   "source": [
    "# based on Windsurf prompt: \"how to plot the first sample image from train_dataset\"\n",
    "\n",
    "# Get the first sample\n",
    "img_tensor, label = train_dataset[0]\n",
    "\n",
    "# Convert tensor to numpy array\n",
    "img_array = np.array(img_tensor)\n",
    "\n",
    "# Plot the image\n",
    "plt.imshow(img_array, cmap='gray')  # Use cmap='gray' for grayscale images\n",
    "plt.title(f\"Label: {'pneumonia' if label.item() == 1 else 'normal'}\")\n",
    "plt.axis('off')  # Hide axis\n",
    "plt.show()\n",
    "\n",
    "# If you want to see the raw pixel values\n",
    "print(\"Pixel values:\")\n",
    "print(img_array[0])"
   ]
  },
  {
   "cell_type": "code",
   "execution_count": 160,
   "id": "b82ffdd1",
   "metadata": {},
   "outputs": [
    {
     "data": {
      "image/png": "[encoded data removed]",
      "text/plain": [
       "<Figure size 640x480 with 1 Axes>"
      ]
     },
     "metadata": {},
     "output_type": "display_data"
    },
    {
     "name": "stdout",
     "output_type": "stream",
     "text": [
      "Image shape: (28, 28)\n",
      "Label (0=normal, 1=pneumonia): 1\n"
     ]
    }
   ],
   "source": [
    "# based on Windsurf prompt: \"how to plot a random image from train_dataset\"\n",
    "\n",
    "# Get a random index\n",
    "random_idx = random.randint(0, len(train_dataset) - 1)\n",
    "\n",
    "# Get the random sample\n",
    "img_tensor, label = train_dataset[random_idx]\n",
    "\n",
    "# Convert tensor to numpy array\n",
    "img_array = np.array(img_tensor)\n",
    "\n",
    "# Plot the image\n",
    "plt.imshow(img_array, cmap='gray')\n",
    "plt.title(f\"Label: {'pneumonia' if label.item() == 1 else 'normal'}\\nIndex: {random_idx}\")\n",
    "plt.axis('off')\n",
    "plt.show()\n",
    "\n",
    "# Print additional info about the sample\n",
    "print(f\"Image shape: {img_array.shape}\")\n",
    "print(f\"Label (0=normal, 1=pneumonia): {label.item()}\")"
   ]
  },
  {
   "cell_type": "code",
   "execution_count": 142,
   "id": "c17a1ff5",
   "metadata": {},
   "outputs": [
    {
     "data": {
      "text/plain": [
       "Dataset PneumoniaMNIST of size 28 (pneumoniamnist)\n",
       "    Number of datapoints: 4708\n",
       "    Root location: C:\\Users\\bigma\\.medmnist\n",
       "    Split: train\n",
       "    Task: binary-class\n",
       "    Number of channels: 1\n",
       "    Meaning of labels: {'0': 'normal', '1': 'pneumonia'}\n",
       "    Number of samples: {'train': 4708, 'val': 524, 'test': 624}\n",
       "    Description: The PneumoniaMNIST is based on a prior dataset of 5,856 pediatric chest X-Ray images. The task is binary-class classification of pneumonia against normal. We split the source training set with a ratio of 9:1 into training and validation set and use its source validation set as the test set. The source images are gray-scale, and their sizes are (384−2,916)×(127−2,713). We center-crop the images and resize them into 1×28×28.\n",
       "    License: CC BY 4.0"
      ]
     },
     "execution_count": 142,
     "metadata": {},
     "output_type": "execute_result"
    }
   ],
   "source": [
    "train_dataset"
   ]
  },
  {
   "cell_type": "code",
   "execution_count": 143,
   "id": "8c17a0fc",
   "metadata": {},
   "outputs": [
    {
     "name": "stdout",
     "output_type": "stream",
     "text": [
      "x_train shape: (4708, 28, 28, 1)\n",
      "y_train shape: (4708,)\n"
     ]
    }
   ],
   "source": [
    "# based on Windsurf prompt: \"how to get a numpy ndarray of x_train images and y_train labels from train_dataset of type medmnist.dataset.PneumoniaMNIST\"\n",
    "\n",
    "# Initialize lists to store images and labels\n",
    "images = []\n",
    "labels = []\n",
    "\n",
    "# Loop through the dataset\n",
    "for img_tensor, label in train_dataset:\n",
    "    # Convert tensor to numpy array and append\n",
    "    images.append(np.array(img_tensor))\n",
    "    labels.append(label.item())  # Convert tensor to scalar\n",
    "\n",
    "# Convert lists to numpy arrays\n",
    "x_train = np.stack(images)  # Stack images into a single array\n",
    "y_train = np.array(labels)  # Convert labels list to array\n",
    "\n",
    "x_train = np.expand_dims(x_train, axis=-1)\n",
    "\n",
    "# Check shapes\n",
    "print(f\"x_train shape: {x_train.shape}\")  # Should be (4708, 28, 28, 1)\n",
    "print(f\"y_train shape: {y_train.shape}\")  # Should be (4708,)\n",
    "\n",
    "# TODO: If you want to flatten the images for machine learning\n",
    "# x_train_flattened = x_train.reshape(x_train.shape[0], -1)  # Shape will be (4708, 784)"
   ]
  },
  {
   "cell_type": "code",
   "execution_count": 144,
   "id": "b22a034a",
   "metadata": {},
   "outputs": [
    {
     "name": "stdout",
     "output_type": "stream",
     "text": [
      "x_validation shape: (524, 28, 28, 1)\n",
      "y_validation shape: (524,)\n"
     ]
    }
   ],
   "source": [
    "# Initialize lists to store images and labels\n",
    "images = []\n",
    "labels = []\n",
    "\n",
    "# Loop through the dataset\n",
    "for img_tensor, label in validation_dataset:\n",
    "    # Convert tensor to numpy array and append\n",
    "    images.append(np.array(img_tensor))\n",
    "    labels.append(label.item())  # Convert tensor to scalar\n",
    "\n",
    "# Convert lists to numpy arrays\n",
    "x_validation = np.stack(images)  # Stack images into a single array\n",
    "y_validation = np.array(labels)  # Convert labels list to array\n",
    "\n",
    "x_validation = np.expand_dims(x_validation, axis=-1)\n",
    "\n",
    "# Check shapes\n",
    "print(f\"x_validation shape: {x_validation.shape}\")  # Should be (4708, 28, 28, 1)\n",
    "print(f\"y_validation shape: {y_validation.shape}\")  # Should be (4708,)"
   ]
  },
  {
   "cell_type": "code",
   "execution_count": 145,
   "id": "d86f50c5",
   "metadata": {},
   "outputs": [],
   "source": [
    "# Normalize image pixel values to [0, 1]\n",
    "if x_train.max() > 1:\n",
    "    x_train = x_train.astype(np.float32) / 255.0\n",
    "    \n",
    "if x_validation.max() > 1:\n",
    "    x_validation = x_validation.astype(np.float32) / 255.0"
   ]
  },
  {
   "cell_type": "markdown",
   "id": "19439258",
   "metadata": {},
   "source": [
    "### Baseline implementation\n",
    "\n",
    "Uses a dense neural network with 2 hidden layers of 8 neurons each, like from early DNN examples from class and like projects 2 and 3.\n",
    "\n",
    "These choices led to a trainable parameter count of 6361, which is larger than the number of images in the training set (4708)."
   ]
  },
  {
   "cell_type": "code",
   "execution_count": 146,
   "id": "a5ce26de",
   "metadata": {},
   "outputs": [
    {
     "name": "stderr",
     "output_type": "stream",
     "text": [
      "c:\\Users\\bigma\\.virtualenvs\\Pneumonia-Detection-1PsfeFAi\\Lib\\site-packages\\keras\\src\\layers\\reshaping\\flatten.py:37: UserWarning: Do not pass an `input_shape`/`input_dim` argument to a layer. When using Sequential models, prefer using an `Input(shape)` object as the first layer in the model instead.\n",
      "  super().__init__(**kwargs)\n"
     ]
    },
    {
     "data": {
      "text/html": [
       "<pre style=\"white-space:pre;overflow-x:auto;line-height:normal;font-family:Menlo,'DejaVu Sans Mono',consolas,'Courier New',monospace\"><span style=\"font-weight: bold\">Model: \"sequential_10\"</span>\n",
       "</pre>\n"
      ],
      "text/plain": [
       "\u001b[1mModel: \"sequential_10\"\u001b[0m\n"
      ]
     },
     "metadata": {},
     "output_type": "display_data"
    },
    {
     "data": {
      "text/html": [
       "<pre style=\"white-space:pre;overflow-x:auto;line-height:normal;font-family:Menlo,'DejaVu Sans Mono',consolas,'Courier New',monospace\">┏━━━━━━━━━━━━━━━━━━━━━━━━━━━━━━━━━┳━━━━━━━━━━━━━━━━━━━━━━━━┳━━━━━━━━━━━━━━━┓\n",
       "┃<span style=\"font-weight: bold\"> Layer (type)                    </span>┃<span style=\"font-weight: bold\"> Output Shape           </span>┃<span style=\"font-weight: bold\">       Param # </span>┃\n",
       "┡━━━━━━━━━━━━━━━━━━━━━━━━━━━━━━━━━╇━━━━━━━━━━━━━━━━━━━━━━━━╇━━━━━━━━━━━━━━━┩\n",
       "│ flatten_10 (<span style=\"color: #0087ff; text-decoration-color: #0087ff\">Flatten</span>)            │ (<span style=\"color: #00d7ff; text-decoration-color: #00d7ff\">None</span>, <span style=\"color: #00af00; text-decoration-color: #00af00\">784</span>)            │             <span style=\"color: #00af00; text-decoration-color: #00af00\">0</span> │\n",
       "├─────────────────────────────────┼────────────────────────┼───────────────┤\n",
       "│ dense_30 (<span style=\"color: #0087ff; text-decoration-color: #0087ff\">Dense</span>)                │ (<span style=\"color: #00d7ff; text-decoration-color: #00d7ff\">None</span>, <span style=\"color: #00af00; text-decoration-color: #00af00\">8</span>)              │         <span style=\"color: #00af00; text-decoration-color: #00af00\">6,280</span> │\n",
       "├─────────────────────────────────┼────────────────────────┼───────────────┤\n",
       "│ dense_31 (<span style=\"color: #0087ff; text-decoration-color: #0087ff\">Dense</span>)                │ (<span style=\"color: #00d7ff; text-decoration-color: #00d7ff\">None</span>, <span style=\"color: #00af00; text-decoration-color: #00af00\">8</span>)              │            <span style=\"color: #00af00; text-decoration-color: #00af00\">72</span> │\n",
       "├─────────────────────────────────┼────────────────────────┼───────────────┤\n",
       "│ dense_32 (<span style=\"color: #0087ff; text-decoration-color: #0087ff\">Dense</span>)                │ (<span style=\"color: #00d7ff; text-decoration-color: #00d7ff\">None</span>, <span style=\"color: #00af00; text-decoration-color: #00af00\">1</span>)              │             <span style=\"color: #00af00; text-decoration-color: #00af00\">9</span> │\n",
       "└─────────────────────────────────┴────────────────────────┴───────────────┘\n",
       "</pre>\n"
      ],
      "text/plain": [
       "┏━━━━━━━━━━━━━━━━━━━━━━━━━━━━━━━━━┳━━━━━━━━━━━━━━━━━━━━━━━━┳━━━━━━━━━━━━━━━┓\n",
       "┃\u001b[1m \u001b[0m\u001b[1mLayer (type)                   \u001b[0m\u001b[1m \u001b[0m┃\u001b[1m \u001b[0m\u001b[1mOutput Shape          \u001b[0m\u001b[1m \u001b[0m┃\u001b[1m \u001b[0m\u001b[1m      Param #\u001b[0m\u001b[1m \u001b[0m┃\n",
       "┡━━━━━━━━━━━━━━━━━━━━━━━━━━━━━━━━━╇━━━━━━━━━━━━━━━━━━━━━━━━╇━━━━━━━━━━━━━━━┩\n",
       "│ flatten_10 (\u001b[38;5;33mFlatten\u001b[0m)            │ (\u001b[38;5;45mNone\u001b[0m, \u001b[38;5;34m784\u001b[0m)            │             \u001b[38;5;34m0\u001b[0m │\n",
       "├─────────────────────────────────┼────────────────────────┼───────────────┤\n",
       "│ dense_30 (\u001b[38;5;33mDense\u001b[0m)                │ (\u001b[38;5;45mNone\u001b[0m, \u001b[38;5;34m8\u001b[0m)              │         \u001b[38;5;34m6,280\u001b[0m │\n",
       "├─────────────────────────────────┼────────────────────────┼───────────────┤\n",
       "│ dense_31 (\u001b[38;5;33mDense\u001b[0m)                │ (\u001b[38;5;45mNone\u001b[0m, \u001b[38;5;34m8\u001b[0m)              │            \u001b[38;5;34m72\u001b[0m │\n",
       "├─────────────────────────────────┼────────────────────────┼───────────────┤\n",
       "│ dense_32 (\u001b[38;5;33mDense\u001b[0m)                │ (\u001b[38;5;45mNone\u001b[0m, \u001b[38;5;34m1\u001b[0m)              │             \u001b[38;5;34m9\u001b[0m │\n",
       "└─────────────────────────────────┴────────────────────────┴───────────────┘\n"
      ]
     },
     "metadata": {},
     "output_type": "display_data"
    },
    {
     "data": {
      "text/html": [
       "<pre style=\"white-space:pre;overflow-x:auto;line-height:normal;font-family:Menlo,'DejaVu Sans Mono',consolas,'Courier New',monospace\"><span style=\"font-weight: bold\"> Total params: </span><span style=\"color: #00af00; text-decoration-color: #00af00\">6,361</span> (24.85 KB)\n",
       "</pre>\n"
      ],
      "text/plain": [
       "\u001b[1m Total params: \u001b[0m\u001b[38;5;34m6,361\u001b[0m (24.85 KB)\n"
      ]
     },
     "metadata": {},
     "output_type": "display_data"
    },
    {
     "data": {
      "text/html": [
       "<pre style=\"white-space:pre;overflow-x:auto;line-height:normal;font-family:Menlo,'DejaVu Sans Mono',consolas,'Courier New',monospace\"><span style=\"font-weight: bold\"> Trainable params: </span><span style=\"color: #00af00; text-decoration-color: #00af00\">6,361</span> (24.85 KB)\n",
       "</pre>\n"
      ],
      "text/plain": [
       "\u001b[1m Trainable params: \u001b[0m\u001b[38;5;34m6,361\u001b[0m (24.85 KB)\n"
      ]
     },
     "metadata": {},
     "output_type": "display_data"
    },
    {
     "data": {
      "text/html": [
       "<pre style=\"white-space:pre;overflow-x:auto;line-height:normal;font-family:Menlo,'DejaVu Sans Mono',consolas,'Courier New',monospace\"><span style=\"font-weight: bold\"> Non-trainable params: </span><span style=\"color: #00af00; text-decoration-color: #00af00\">0</span> (0.00 B)\n",
       "</pre>\n"
      ],
      "text/plain": [
       "\u001b[1m Non-trainable params: \u001b[0m\u001b[38;5;34m0\u001b[0m (0.00 B)\n"
      ]
     },
     "metadata": {},
     "output_type": "display_data"
    }
   ],
   "source": [
    "# Set random seeds for reproducibility\n",
    "tf.random.set_seed(42)\n",
    "np.random.seed(42)\n",
    "\n",
    "model = Sequential([\n",
    "    Flatten(input_shape=(28, 28, 1)),\n",
    "    Dense(8, activation='relu'),\n",
    "    Dense(8, activation='relu'), # TODO: Try with fewer hidden layers and neurons.\n",
    "    Dense(1, activation='sigmoid')]) # sigmoid for binary classification.\n",
    "\n",
    "# TODO: Consider trying BinaryFocalCrossentropy also: https://keras.io/api/losses/probabilistic_losses/#binaryfocalcrossentropy-class\n",
    "model.compile(loss='binary_crossentropy',optimizer=Adam(),metrics=['accuracy'])\n",
    "\n",
    "model.summary()"
   ]
  },
  {
   "cell_type": "code",
   "execution_count": 147,
   "id": "9f07730e",
   "metadata": {},
   "outputs": [
    {
     "name": "stdout",
     "output_type": "stream",
     "text": [
      "(4708, 28, 28, 1)\n",
      "(4708,)\n",
      "(524, 28, 28, 1)\n",
      "(524,)\n"
     ]
    }
   ],
   "source": [
    "print(x_train.shape)\n",
    "print(y_train.shape)\n",
    "print(x_validation.shape)\n",
    "print(y_validation.shape)\n"
   ]
  },
  {
   "cell_type": "code",
   "execution_count": 148,
   "id": "f3734bd5",
   "metadata": {},
   "outputs": [
    {
     "name": "stdout",
     "output_type": "stream",
     "text": [
      "Epoch 1/10\n",
      "\u001b[1m148/148\u001b[0m \u001b[32m━━━━━━━━━━━━━━━━━━━━\u001b[0m\u001b[37m\u001b[0m \u001b[1m1s\u001b[0m 3ms/step - accuracy: 0.7370 - loss: 0.5201 - val_accuracy: 0.8454 - val_loss: 0.3463\n",
      "Epoch 2/10\n",
      "\u001b[1m148/148\u001b[0m \u001b[32m━━━━━━━━━━━━━━━━━━━━\u001b[0m\u001b[37m\u001b[0m \u001b[1m0s\u001b[0m 2ms/step - accuracy: 0.8717 - loss: 0.3278 - val_accuracy: 0.9179 - val_loss: 0.2816\n",
      "Epoch 3/10\n",
      "\u001b[1m148/148\u001b[0m \u001b[32m━━━━━━━━━━━━━━━━━━━━\u001b[0m\u001b[37m\u001b[0m \u001b[1m0s\u001b[0m 2ms/step - accuracy: 0.9083 - loss: 0.2804 - val_accuracy: 0.9351 - val_loss: 0.2524\n",
      "Epoch 4/10\n",
      "\u001b[1m148/148\u001b[0m \u001b[32m━━━━━━━━━━━━━━━━━━━━\u001b[0m\u001b[37m\u001b[0m \u001b[1m0s\u001b[0m 2ms/step - accuracy: 0.9151 - loss: 0.2546 - val_accuracy: 0.9427 - val_loss: 0.2267\n",
      "Epoch 5/10\n",
      "\u001b[1m148/148\u001b[0m \u001b[32m━━━━━━━━━━━━━━━━━━━━\u001b[0m\u001b[37m\u001b[0m \u001b[1m0s\u001b[0m 2ms/step - accuracy: 0.9300 - loss: 0.2255 - val_accuracy: 0.9485 - val_loss: 0.1923\n",
      "Epoch 6/10\n",
      "\u001b[1m148/148\u001b[0m \u001b[32m━━━━━━━━━━━━━━━━━━━━\u001b[0m\u001b[37m\u001b[0m \u001b[1m0s\u001b[0m 2ms/step - accuracy: 0.9343 - loss: 0.1951 - val_accuracy: 0.9523 - val_loss: 0.1727\n",
      "Epoch 7/10\n",
      "\u001b[1m148/148\u001b[0m \u001b[32m━━━━━━━━━━━━━━━━━━━━\u001b[0m\u001b[37m\u001b[0m \u001b[1m0s\u001b[0m 2ms/step - accuracy: 0.9358 - loss: 0.1806 - val_accuracy: 0.9504 - val_loss: 0.1596\n",
      "Epoch 8/10\n",
      "\u001b[1m148/148\u001b[0m \u001b[32m━━━━━━━━━━━━━━━━━━━━\u001b[0m\u001b[37m\u001b[0m \u001b[1m0s\u001b[0m 2ms/step - accuracy: 0.9320 - loss: 0.1746 - val_accuracy: 0.9542 - val_loss: 0.1521\n",
      "Epoch 9/10\n",
      "\u001b[1m148/148\u001b[0m \u001b[32m━━━━━━━━━━━━━━━━━━━━\u001b[0m\u001b[37m\u001b[0m \u001b[1m0s\u001b[0m 2ms/step - accuracy: 0.9335 - loss: 0.1637 - val_accuracy: 0.9523 - val_loss: 0.1454\n",
      "Epoch 10/10\n",
      "\u001b[1m148/148\u001b[0m \u001b[32m━━━━━━━━━━━━━━━━━━━━\u001b[0m\u001b[37m\u001b[0m \u001b[1m0s\u001b[0m 2ms/step - accuracy: 0.9352 - loss: 0.1622 - val_accuracy: 0.9523 - val_loss: 0.1432\n"
     ]
    }
   ],
   "source": [
    "history = model.fit(x_train, y_train, epochs=10, validation_data=(x_validation, y_validation))"
   ]
  },
  {
   "cell_type": "code",
   "execution_count": 149,
   "id": "48ef043b",
   "metadata": {},
   "outputs": [
    {
     "data": {
      "image/png": "[encoded data removed]",
      "text/plain": [
       "<Figure size 1200x500 with 2 Axes>"
      ]
     },
     "metadata": {},
     "output_type": "display_data"
    }
   ],
   "source": [
    "plt.figure(figsize=(12, 5))\n",
    "\n",
    "plt.subplot(1, 2, 1)\n",
    "# Plot training & validation loss values\n",
    "plt.plot(history.history['loss'], label='Train Loss')\n",
    "plt.plot(history.history['val_loss'], label='Validation Loss')\n",
    "plt.title('Model Loss')\n",
    "plt.xlabel('Epoch')\n",
    "plt.ylabel('Loss')\n",
    "plt.legend()\n",
    "\n",
    "plt.subplot(1, 2, 2)\n",
    "plt.plot(history.history['accuracy'], label='Train Accuracy')\n",
    "plt.plot(history.history['val_accuracy'], label='Validation Accuracy')\n",
    "plt.title('Model Accuracy')\n",
    "plt.xlabel('Epoch')\n",
    "plt.ylabel('Accuracy')\n",
    "plt.legend()\n",
    "\n",
    "plt.tight_layout()\n",
    "plt.show()\n"
   ]
  },
  {
   "cell_type": "code",
   "execution_count": 150,
   "id": "a76293cc",
   "metadata": {},
   "outputs": [
    {
     "name": "stdout",
     "output_type": "stream",
     "text": [
      "Class distribution in y_train:\n",
      "Class normal (label 0): 1214 samples\n",
      "Class pneumonia (label 1): 3494 samples\n",
      "\n",
      "Using pandas:\n",
      "1    3494\n",
      "0    1214\n",
      "Name: count, dtype: int64\n",
      "1    74.214104\n",
      "0    25.785896\n",
      "Name: proportion, dtype: float64\n",
      "Axes(0.125,0.11;0.775x0.77)\n"
     ]
    },
    {
     "data": {
      "image/png": "[encoded data removed]",
      "text/plain": [
       "<Figure size 640x480 with 1 Axes>"
      ]
     },
     "metadata": {},
     "output_type": "display_data"
    }
   ],
   "source": [
    "# Get unique values and their counts\n",
    "unique_values, counts = np.unique(y_train, return_counts=True)\n",
    "\n",
    "# Create a dictionary of counts\n",
    "class_counts = dict(zip(unique_values, counts))\n",
    "\n",
    "# Print the counts\n",
    "print(f\"Class distribution in y_train:\")\n",
    "for class_id, count in class_counts.items():\n",
    "    class_name = 'normal' if class_id == 0 else 'pneumonia'\n",
    "    print(f\"Class {class_name} (label {class_id}): {count} samples\")\n",
    "\n",
    "# Alternative way using pandas\n",
    "import pandas as pd\n",
    "y_train_df = pd.Series(y_train)\n",
    "print(\"\\nUsing pandas:\")\n",
    "print(y_train_df.value_counts())\n",
    "percentage_df = y_train_df.value_counts(normalize=True) * 100\n",
    "print(percentage_df)\n",
    "print(y_train_df.value_counts().plot(kind='bar'))\n"
   ]
  },
  {
   "cell_type": "code",
   "execution_count": 151,
   "id": "d73273a6",
   "metadata": {},
   "outputs": [
    {
     "name": "stdout",
     "output_type": "stream",
     "text": [
      "Class distribution in y_validation:\n",
      "Class normal (label 0): 135 samples\n",
      "Class pneumonia (label 1): 389 samples\n",
      "\n",
      "Using pandas:\n",
      "1    389\n",
      "0    135\n",
      "Name: count, dtype: int64\n",
      "1    74.236641\n",
      "0    25.763359\n",
      "Name: proportion, dtype: float64\n",
      "Axes(0.125,0.11;0.775x0.77)\n"
     ]
    },
    {
     "data": {
      "image/png": "[encoded data removed]",
      "text/plain": [
       "<Figure size 640x480 with 1 Axes>"
      ]
     },
     "metadata": {},
     "output_type": "display_data"
    }
   ],
   "source": [
    "# Get unique values and their counts\n",
    "unique_values, counts = np.unique(y_validation, return_counts=True)\n",
    "\n",
    "# Create a dictionary of counts\n",
    "class_counts = dict(zip(unique_values, counts))\n",
    "\n",
    "# Print the counts\n",
    "print(f\"Class distribution in y_validation:\")\n",
    "for class_id, count in class_counts.items():\n",
    "    class_name = 'normal' if class_id == 0 else 'pneumonia'\n",
    "    print(f\"Class {class_name} (label {class_id}): {count} samples\")\n",
    "\n",
    "# Alternative way using pandas\n",
    "import pandas as pd\n",
    "y_validation_df = pd.Series(y_validation)\n",
    "print(\"\\nUsing pandas:\")\n",
    "print(y_validation_df.value_counts())\n",
    "percentage_df = y_validation_df.value_counts(normalize=True) * 100\n",
    "print(percentage_df)\n",
    "print(y_validation_df.value_counts().plot(kind='bar'))"
   ]
  }
 ],
 "metadata": {
  "kernelspec": {
   "display_name": "Pneumonia-Detection-1PsfeFAi",
   "language": "python",
   "name": "python3"
  },
  "language_info": {
   "codemirror_mode": {
    "name": "ipython",
    "version": 3
   },
   "file_extension": ".py",
   "mimetype": "text/x-python",
   "name": "python",
   "nbconvert_exporter": "python",
   "pygments_lexer": "ipython3",
   "version": "3.12.8"
  }
 },
 "nbformat": 4,
 "nbformat_minor": 5
}
